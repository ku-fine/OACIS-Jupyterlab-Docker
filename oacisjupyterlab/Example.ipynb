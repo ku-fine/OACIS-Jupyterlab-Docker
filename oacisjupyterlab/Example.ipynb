{
 "cells": [
  {
   "cell_type": "code",
   "execution_count": null,
   "id": "72931f81-ec49-4289-a6d9-75c06fffeb46",
   "metadata": {},
   "outputs": [],
   "source": [
    "# First of all, you need to import OACIS module. Add the OACIS_ROOT path to sys.path to import `oacis` module\n",
    "import os,sys\n",
    "sys.path.append( os.environ['OACIS_ROOT'] )\n",
    "import oacis"
   ]
  },
  {
   "cell_type": "markdown",
   "id": "0118a202-1502-4c6e-80d9-7d1bd7a51ad6",
   "metadata": {},
   "source": [
    "# Prerequisites\n",
    "\n",
    "Before running the following samples, please prepare a sample simulator as follows.\n",
    "\n",
    "    Name: sample_simulator\n",
    "    Parameter definitions:\n",
    "        \"p1\", Float, 1.0\n",
    "        \"p2\", Float, 2.0\n",
    "        \"p3\", Float, 3.0\n",
    "    Command: ruby -r json -e 'j = JSON.load(File.read(\"_input.json\")); sum=%w(p1 p2 p3).map{|k| j[k]}.inject(:+); puts({sum: sum}.to_json)' > _output.json\n",
    "    Input type: JSON\n",
    "    Executable_on : localhost\n"
   ]
  },
  {
   "cell_type": "code",
   "execution_count": null,
   "id": "9f70f7c8-1769-4d6a-97f7-fdb0eb66d224",
   "metadata": {},
   "outputs": [],
   "source": [
    "if oacis.Simulator.where(name=\"sample_simulator\").size() == 0:\n",
    "    sim = {\n",
    "        \"name\": \"sample_simulator\",\n",
    "        \"command\": \"ruby -r json -e 'j = JSON.load(File.read(\\\"_input.json\\\")); sum=%w(p1 p2 p3).map{|k| j[k]}.inject(:+); puts({sum: sum}.to_json)' > _output.json\",\n",
    "        \"support_input_json\": True,\n",
    "        \"parameter_definitions\": [\n",
    "            {\"key\": \"p1\", \"type\": \"Float\", \"default\": 1.0},\n",
    "            {\"key\": \"p2\", \"type\": \"Float\", \"default\": 2.0},\n",
    "            {\"key\": \"p3\", \"type\": \"Float\", \"default\": 3.0}\n",
    "          ],\n",
    "          \"executable_on\": [ oacis.Host.find_by_name(\"localhost\")]\n",
    "        }\n",
    "    oacis.Simulator.create(sim)"
   ]
  },
  {
   "cell_type": "markdown",
   "id": "c5b70ece-ea09-4b94-8b71-5773637affe5",
   "metadata": {},
   "source": [
    "# Creating parameter sets and runs\n",
    "\n",
    "\n",
    "## Retrieving / Creating a simulator\n",
    "First let's check for the existence and if necessary create a simulator."
   ]
  },
  {
   "cell_type": "code",
   "execution_count": null,
   "id": "86185371-4f90-45fe-a098-1f2e1d7c1299",
   "metadata": {},
   "outputs": [],
   "source": [
    "sim = oacis.Simulator.find_by_name(\"sample_simulator\")\n",
    "ps = sim.find_or_create_parameter_set( {\"p1\":10.0,\"p2\":20.0,\"p3\":30.0} )\n",
    "ps.inspect()"
   ]
  },
  {
   "cell_type": "markdown",
   "id": "467deb34-a2f4-4586-99e8-acff957e783a",
   "metadata": {},
   "source": [
    "## Creating runs\n",
    "\n",
    "When creating runs, you need to specify the host to which the jobs are submitted to. We may need to set \"host_parameters\" which specify the parameters required by job schedulers."
   ]
  },
  {
   "cell_type": "code",
   "execution_count": null,
   "id": "184e1e4c-bc79-4625-8eb3-e0dfb24ecfb9",
   "metadata": {},
   "outputs": [],
   "source": [
    "\n",
    "host = oacis.Host.find_by_name(\"localhost\")\n",
    "new_runs = ps.find_or_create_runs_upto( 5, submitted_to= host )\n",
    "new_run_ids = [ str( run.id() ) for run in new_runs ]\n",
    "new_run_ids\n"
   ]
  },
  {
   "cell_type": "markdown",
   "id": "6c711577-9309-45e7-9d7e-c3ed525996d5",
   "metadata": {},
   "source": [
    "## Creating multiple parameter sets"
   ]
  },
  {
   "cell_type": "code",
   "execution_count": null,
   "id": "01f27eb3-8e97-47af-8c23-4887987a621d",
   "metadata": {},
   "outputs": [],
   "source": [
    "import numpy as np\n",
    "sim = oacis.Simulator.where( name = 'sample_simulator' ).first()\n",
    "p1_values = np.linspace(1.0,5.0, 5)\n",
    "p2_values = np.linspace(2.0, 20.0, 10)\n",
    "base_param = sim.default_parameters()\n",
    "print(base_param)\n",
    "\n",
    "param = base_param\n",
    "\n",
    "for p1 in p1_values:\n",
    "    for p2 in p2_values:\n",
    "        param.update( {'p1':p1, 'p2':p2} )\n",
    "        print(param)\n",
    "        ps = sim.find_or_create_parameter_set( param )\n",
    "        runs = ps.find_or_create_runs_upto(1, submitted_to=host)\n",
    "        print( [ run.id().to_s() for run in runs] )\n",
    "        \n",
    "print(base_param)"
   ]
  },
  {
   "cell_type": "markdown",
   "id": "caac9897-8ee1-4132-a392-27c34b05e730",
   "metadata": {},
   "source": [
    "# Obtaining execution results\n",
    "\n",
    "For the sake of this example, we are going to investigate the dependency of \"p1\" and \"p2\" against the results.\n",
    "Note that the code below should be run **after** the runs/jobs created above have completed their execution."
   ]
  },
  {
   "cell_type": "code",
   "execution_count": null,
   "id": "7f270ffb-69e9-4eee-8a73-27e652e6b4a7",
   "metadata": {},
   "outputs": [],
   "source": [
    "sim = oacis.Simulator.find_by_name('sample_simulator')\n",
    "print(f\"Simulation name {sim.name()}\")\n",
    "print(f\"Command {sim.command()}\")\n",
    "print(\"Executable on:\")\n",
    "for h in sim.executable_on():\n",
    "    print(f\"\\t{h.name()}\")\n",
    "\n",
    "print(f\"Total    runs: {len( sim.runs() )}\")\n",
    "print(f\"Finished runs: {len(sim.runs().where({'status':'finished'}))}\" )"
   ]
  },
  {
   "cell_type": "code",
   "execution_count": null,
   "id": "98376997-f9fe-42ec-9f7c-88803f9a0dac",
   "metadata": {},
   "outputs": [],
   "source": [
    "# ParameterSet of {p1: 1.0, p2: 2.0, p3: 3.0}\n",
    "ps = sim.find_parameter_set( {'p1':1.0, 'p2':2.0, 'p3':3.0} )\n",
    "\n",
    "#  Here are some examples of fields of ParameterSet\n",
    "print( ps.id(), ps.v(), ps.runs().count(), ps.runs().where({'status':'finished'}).count() )\n",
    "#print( ps.runs_status_count() )\n",
    "print( ps.average_result(\"sum\") )"
   ]
  },
  {
   "cell_type": "code",
   "execution_count": null,
   "id": "fc8579db-73f1-4778-9ea6-6f1343692fbb",
   "metadata": {},
   "outputs": [],
   "source": [
    "# Getting a Run\n",
    "run = ps.runs().first()\n",
    "\n",
    "# Here are some examples of fields of Run\n",
    "for field in [ run.id(), run.status(), run.result(), run.cpu_time(), run.finished_at(), run.dir() ]:\n",
    "    print( field )\n"
   ]
  },
  {
   "cell_type": "markdown",
   "id": "e8002358-4261-461b-a1f1-de681c12b877",
   "metadata": {},
   "source": [
    "## Search parameter sets by condition"
   ]
  },
  {
   "cell_type": "code",
   "execution_count": null,
   "id": "6f014257-80f8-4efe-b586-35c7f91a92bc",
   "metadata": {},
   "outputs": [],
   "source": [
    "# Search ParameterSets by condition\n",
    "sim = oacis.Simulator.where(name=\"sample_simulator\").first()\n",
    "\n",
    "# The followings are some example queries which you might find useful.\n",
    "# Since a ParameterSet contains the parameters in the field of `v`, you need to issue an query against `v`.\n",
    "# See http://www.rubydoc.info/github/mongoid/origin/Origin/Selectable\n",
    "print(\"p2 == 10.0 and p3 == 3.0\")\n",
    "found = sim.parameter_sets().where({\"v.p2\":10.0, \"v.p3\":3.0}).asc(\"v.p1\")\n",
    "for ps in found:\n",
    "    print( ps.v() )\n",
    "\n",
    "print(\"p1 <= 2 and p2 > 15.0 and p3 == 3.0\")\n",
    "found = sim.parameter_sets().lte( {\"v.p1\":2} ).gt( {\"v.p2\":15.0} ).where( {\"v.p3\":3.0} )\n",
    "for ps in found:\n",
    "    print( ps.v() )\n",
    "\n",
    "print(\"p1 is in [2,4] and p2==20\")\n",
    "found = sim.parameter_sets().send('in', {\"v.p1\":[2,4]} ).where( {\"v.p2\":20} )\n",
    "for ps in found:\n",
    "    print( ps.v() )\n",
    "\n",
    "print(\"p1 <= 3 and p2 <= 6.0, ordered by p1 in ascending order and p2 in descending order\")\n",
    "found = sim.parameter_sets().lte( {\"v.p1\":3, \"v.p2\": 6.0} ).order_by( {\"v.p1\":'asc', \"v.p2\":'desc'} )\n",
    "for ps in found:\n",
    "    print( ps.v() )\n"
   ]
  },
  {
   "cell_type": "markdown",
   "id": "4365206d-c7fd-4990-860a-f54af09a6a38",
   "metadata": {},
   "source": [
    "## Plot results using matplotlib\n",
    "\n",
    "Since we are in jupyterlab, we might as well use the integration of all the most practical features to obtain the information we want."
   ]
  },
  {
   "cell_type": "code",
   "execution_count": null,
   "id": "427207a8-6653-4598-b20b-036f085b5508",
   "metadata": {},
   "outputs": [],
   "source": [
    "# plot results using matplotlib\n",
    "import matplotlib.pyplot as plt\n",
    "\n",
    "sim = oacis.Simulator.where(name='sample_simulator').first()\n",
    "parameter_sets = sim.parameter_sets().where( {\"v.p1\":1.0, \"v.p3\":3.0} ).asc(\"v.p2\")\n",
    "x = []\n",
    "y = []\n",
    "for ps in parameter_sets:\n",
    "    x.append( ps.v()[\"p2\"] )\n",
    "    y.append( ps.average_result(\"sum\")[0] )\n",
    "plt.plot(x,y, 'ro')\n",
    "plt.show()"
   ]
  },
  {
   "cell_type": "markdown",
   "id": "1dd45dc6-9dad-4374-85ea-02c2202c54ed",
   "metadata": {},
   "source": [
    "# Deleting things\n",
    "\n",
    "The `discard` method can be used to delete an item. After running the code below, you can check on the OACIS page that the runs in question have indeed been deleted."
   ]
  },
  {
   "cell_type": "code",
   "execution_count": null,
   "id": "d86d8f3b-4624-4a44-8ec8-d96b356d07b2",
   "metadata": {},
   "outputs": [],
   "source": [
    "sim = oacis.Simulator.where(name=\"sample_simulator\").first()\n",
    "ps = sim.find_parameter_set( {\"p1\":1.0, \"p2\": 2.0, \"p3\": 3.0} )\n",
    "print( len( ps.runs() ) )\n",
    "run = ps.runs()[0]                                            # Get the first run\n",
    "run.discard()                                                     # Delete it\n",
    "print( len(ps.runs()) )                                      # => 4.  The number of runs is decreased by 1.\n",
    "\n",
    "\n",
    "#  deleting all ParameterSet whose p2 is larger than 10.0\n",
    "print( sim.parameter_sets().gt( {\"v.p2\": 10.0} ).count() > 0 )            # => true\n",
    "for ps in sim.parameter_sets().gt( {\"v.p2\": 10.0} ):\n",
    "  ps.discard()\n",
    "print( sim.parameter_sets().gt( {\"v.p2\": 10.0} ).count() > 0 )            # => false"
   ]
  }
 ],
 "metadata": {
  "kernelspec": {
   "display_name": "Python 3",
   "language": "python",
   "name": "python3"
  },
  "language_info": {
   "codemirror_mode": {
    "name": "ipython",
    "version": 3
   },
   "file_extension": ".py",
   "mimetype": "text/x-python",
   "name": "python",
   "nbconvert_exporter": "python",
   "pygments_lexer": "ipython3",
   "version": "3.6.9"
  }
 },
 "nbformat": 4,
 "nbformat_minor": 5
}
